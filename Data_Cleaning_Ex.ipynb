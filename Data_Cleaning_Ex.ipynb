{
 "cells": [
  {
   "cell_type": "code",
   "execution_count": 1,
   "id": "fb55b66e",
   "metadata": {},
   "outputs": [],
   "source": [
    "import pandas as pd\n",
    "import numpy as np\n",
    "###read data"
   ]
  },
  {
   "cell_type": "code",
   "execution_count": 2,
   "id": "12759a0e",
   "metadata": {},
   "outputs": [
    {
     "data": {
      "text/plain": [
       "(50000, 20)"
      ]
     },
     "execution_count": 2,
     "metadata": {},
     "output_type": "execute_result"
    }
   ],
   "source": [
    "df.shape"
   ]
  },
  {
   "cell_type": "code",
   "execution_count": 3,
   "id": "0a1140cf",
   "metadata": {},
   "outputs": [
    {
     "name": "stdout",
     "output_type": "stream",
     "text": [
      "<class 'pandas.core.frame.DataFrame'>\n",
      "RangeIndex: 50000 entries, 0 to 49999\n",
      "Data columns (total 20 columns):\n",
      " #   Column               Non-Null Count  Dtype \n",
      "---  ------               --------------  ----- \n",
      " 0   dateCrawled          50000 non-null  object\n",
      " 1   name                 50000 non-null  object\n",
      " 2   seller               50000 non-null  object\n",
      " 3   offerType            50000 non-null  object\n",
      " 4   price                50000 non-null  object\n",
      " 5   abtest               50000 non-null  object\n",
      " 6   vehicleType          44905 non-null  object\n",
      " 7   yearOfRegistration   50000 non-null  int64 \n",
      " 8   gearbox              47320 non-null  object\n",
      " 9   powerPS              50000 non-null  int64 \n",
      " 10  model                47242 non-null  object\n",
      " 11  odometer             50000 non-null  object\n",
      " 12  monthOfRegistration  50000 non-null  int64 \n",
      " 13  fuelType             45518 non-null  object\n",
      " 14  brand                50000 non-null  object\n",
      " 15  notRepairedDamage    40171 non-null  object\n",
      " 16  dateCreated          50000 non-null  object\n",
      " 17  nrOfPictures         50000 non-null  int64 \n",
      " 18  postalCode           50000 non-null  int64 \n",
      " 19  lastSeen             50000 non-null  object\n",
      "dtypes: int64(5), object(15)\n",
      "memory usage: 7.6+ MB\n"
     ]
    }
   ],
   "source": [
    "df.info()"
   ]
  },
  {
   "cell_type": "code",
   "execution_count": 4,
   "id": "f3ef727a",
   "metadata": {},
   "outputs": [
    {
     "data": {
      "text/plain": [
       "0    $5,000\n",
       "1    $8,500\n",
       "2    $8,990\n",
       "3    $4,350\n",
       "4    $1,350\n",
       "Name: price, dtype: object"
      ]
     },
     "execution_count": 4,
     "metadata": {},
     "output_type": "execute_result"
    }
   ],
   "source": [
    "df['price'].head()"
   ]
  },
  {
   "cell_type": "code",
   "execution_count": 5,
   "id": "ab8dc585",
   "metadata": {},
   "outputs": [
    {
     "data": {
      "text/plain": [
       "0    5000\n",
       "1    8500\n",
       "2    8990\n",
       "3    4350\n",
       "4    1350\n",
       "Name: price, dtype: int64"
      ]
     },
     "execution_count": 5,
     "metadata": {},
     "output_type": "execute_result"
    }
   ],
   "source": [
    "###Task 1: clean Price column\n",
    "###Removing any non-numeric characters.\n",
    "###Convert the column to a numeric dtype."
   ]
  },
  {
   "cell_type": "code",
   "execution_count": 6,
   "id": "126c6014",
   "metadata": {},
   "outputs": [
    {
     "data": {
      "text/plain": [
       "0    150,000km\n",
       "1    150,000km\n",
       "2     70,000km\n",
       "3     70,000km\n",
       "4    150,000km\n",
       "Name: odometer, dtype: object"
      ]
     },
     "execution_count": 6,
     "metadata": {},
     "output_type": "execute_result"
    }
   ],
   "source": [
    "df['odometer'].head()"
   ]
  },
  {
   "cell_type": "code",
   "execution_count": 7,
   "id": "9d809fbc",
   "metadata": {},
   "outputs": [
    {
     "data": {
      "text/plain": [
       "0    150000\n",
       "1    150000\n",
       "2     70000\n",
       "3     70000\n",
       "4    150000\n",
       "Name: odometer, dtype: int64"
      ]
     },
     "execution_count": 7,
     "metadata": {},
     "output_type": "execute_result"
    }
   ],
   "source": [
    "###Task 2: clean odometer column\n",
    "###Removing any non-numeric characters.\n",
    "###Convert the column to a numeric dtype."
   ]
  },
  {
   "cell_type": "code",
   "execution_count": 8,
   "id": "15588434",
   "metadata": {},
   "outputs": [],
   "source": [
    "# Rename odometer to odometer_km to be more descriptive"
   ]
  },
  {
   "cell_type": "code",
   "execution_count": 10,
   "id": "8e704469",
   "metadata": {},
   "outputs": [
    {
     "data": {
      "text/plain": [
       "2000    3354\n",
       "2005    3015\n",
       "1999    3000\n",
       "2004    2737\n",
       "2003    2727\n",
       "2006    2708\n",
       "2001    2703\n",
       "2002    2533\n",
       "1998    2453\n",
       "2007    2304\n",
       "Name: yearOfRegistration, dtype: int64"
      ]
     },
     "execution_count": 10,
     "metadata": {},
     "output_type": "execute_result"
    }
   ],
   "source": [
    "###remove any rows with registration years greater than 2016 "
   ]
  },
  {
   "cell_type": "code",
   "execution_count": 11,
   "id": "b2457927",
   "metadata": {},
   "outputs": [
    {
     "data": {
      "text/plain": [
       "Index(['volkswagen', 'bmw', 'opel', 'mercedes_benz', 'audi', 'ford'], dtype='object')"
      ]
     },
     "execution_count": 11,
     "metadata": {},
     "output_type": "execute_result"
    }
   ],
   "source": [
    "###Find brands that make up more than 5% of the total sales data."
   ]
  },
  {
   "cell_type": "code",
   "execution_count": 14,
   "id": "89e6bbb5",
   "metadata": {},
   "outputs": [
    {
     "data": {
      "text/plain": [
       "{'volkswagen': 6516,\n",
       " 'bmw': 8334,\n",
       " 'opel': 5252,\n",
       " 'mercedes_benz': 30317,\n",
       " 'audi': 9093,\n",
       " 'ford': 7263}"
      ]
     },
     "execution_count": 14,
     "metadata": {},
     "output_type": "execute_result"
    }
   ],
   "source": [
    "###Calculate mean price for each brand, store result to a list named brands_mean_price\n",
    "brands_mean_price = {}\n",
    "\n",
    "for brands in most_common_brands:\n",
    "    brand_only = df[df['brand'] == brands]\n",
    "    mean_price = brand_only['price'].mean()\n",
    "    brands_mean_price[brands] = int(mean_price)\n",
    "    \n",
    "brands_mean_price"
   ]
  },
  {
   "cell_type": "code",
   "execution_count": 15,
   "id": "2de7148f",
   "metadata": {},
   "outputs": [
    {
     "data": {
      "text/plain": [
       "{'volkswagen': 128730,\n",
       " 'bmw': 132434,\n",
       " 'opel': 129227,\n",
       " 'mercedes_benz': 130860,\n",
       " 'audi': 129287,\n",
       " 'ford': 124046}"
      ]
     },
     "execution_count": 15,
     "metadata": {},
     "output_type": "execute_result"
    }
   ],
   "source": [
    "#####We can use a similar method to obtain the average mileage for those cars and then see \n",
    "brand_mean_mileage = {}\n",
    "\n",
    "for brands in most_common_brands:\n",
    "    brand_only = df[df['brand'] == brands]\n",
    "    mean_mileage = brand_only['odometer_km'].mean()\n",
    "    brand_mean_mileage[brands] = int(mean_mileage)\n",
    "    \n",
    "brand_mean_mileage"
   ]
  },
  {
   "cell_type": "code",
   "execution_count": 18,
   "id": "18a3835d",
   "metadata": {},
   "outputs": [
    {
     "data": {
      "text/html": [
       "<div>\n",
       "<style scoped>\n",
       "    .dataframe tbody tr th:only-of-type {\n",
       "        vertical-align: middle;\n",
       "    }\n",
       "\n",
       "    .dataframe tbody tr th {\n",
       "        vertical-align: top;\n",
       "    }\n",
       "\n",
       "    .dataframe thead th {\n",
       "        text-align: right;\n",
       "    }\n",
       "</style>\n",
       "<table border=\"1\" class=\"dataframe\">\n",
       "  <thead>\n",
       "    <tr style=\"text-align: right;\">\n",
       "      <th></th>\n",
       "      <th>mean_mileage</th>\n",
       "      <th>mean_price</th>\n",
       "    </tr>\n",
       "    <tr>\n",
       "      <th>brand</th>\n",
       "      <th></th>\n",
       "      <th></th>\n",
       "    </tr>\n",
       "  </thead>\n",
       "  <tbody>\n",
       "    <tr>\n",
       "      <th>volkswagen</th>\n",
       "      <td>128730</td>\n",
       "      <td>6516</td>\n",
       "    </tr>\n",
       "    <tr>\n",
       "      <th>bmw</th>\n",
       "      <td>132434</td>\n",
       "      <td>8334</td>\n",
       "    </tr>\n",
       "    <tr>\n",
       "      <th>opel</th>\n",
       "      <td>129227</td>\n",
       "      <td>5252</td>\n",
       "    </tr>\n",
       "    <tr>\n",
       "      <th>mercedes_benz</th>\n",
       "      <td>130860</td>\n",
       "      <td>30317</td>\n",
       "    </tr>\n",
       "    <tr>\n",
       "      <th>audi</th>\n",
       "      <td>129287</td>\n",
       "      <td>9093</td>\n",
       "    </tr>\n",
       "    <tr>\n",
       "      <th>ford</th>\n",
       "      <td>124046</td>\n",
       "      <td>7263</td>\n",
       "    </tr>\n",
       "  </tbody>\n",
       "</table>\n",
       "</div>"
      ],
      "text/plain": [
       "               mean_mileage  mean_price\n",
       "brand                                  \n",
       "volkswagen           128730        6516\n",
       "bmw                  132434        8334\n",
       "opel                 129227        5252\n",
       "mercedes_benz        130860       30317\n",
       "audi                 129287        9093\n",
       "ford                 124046        7263"
      ]
     },
     "execution_count": 18,
     "metadata": {},
     "output_type": "execute_result"
    }
   ],
   "source": [
    "#####We'll combine both these series objects into a single dataframe, \n",
    "#####with a shared index, so we can easily compare the two."
   ]
  },
  {
   "cell_type": "code",
   "execution_count": 20,
   "id": "f66981ae",
   "metadata": {},
   "outputs": [
    {
     "data": {
      "text/plain": [
       "nein    34255\n",
       "ja       4785\n",
       "Name: notRepairedDamage, dtype: int64"
      ]
     },
     "execution_count": 20,
     "metadata": {},
     "output_type": "execute_result"
    }
   ],
   "source": [
    "df['notRepairedDamage'].value_counts()"
   ]
  },
  {
   "cell_type": "code",
   "execution_count": 23,
   "id": "66b28b58",
   "metadata": {},
   "outputs": [
    {
     "name": "stderr",
     "output_type": "stream",
     "text": [
      "C:\\Users\\DELL\\AppData\\Local\\Temp/ipykernel_14628/903540506.py:6: SettingWithCopyWarning: \n",
      "A value is trying to be set on a copy of a slice from a DataFrame.\n",
      "Try using .loc[row_indexer,col_indexer] = value instead\n",
      "\n",
      "See the caveats in the documentation: https://pandas.pydata.org/pandas-docs/stable/user_guide/indexing.html#returning-a-view-versus-a-copy\n",
      "  df['notRepairedDamage'] = df['notRepairedDamage'].map(unrepaired_damage)\n"
     ]
    },
    {
     "data": {
      "text/plain": [
       "no     34255\n",
       "yes     4785\n",
       "Name: notRepairedDamage, dtype: int64"
      ]
     },
     "execution_count": 23,
     "metadata": {},
     "output_type": "execute_result"
    }
   ],
   "source": [
    "####mapping nein-> no, ja->yes"
   ]
  },
  {
   "cell_type": "code",
   "execution_count": 24,
   "id": "62f2ae18",
   "metadata": {},
   "outputs": [
    {
     "data": {
      "text/plain": [
       "{'no': 8233, 'yes': 2335}"
      ]
     },
     "execution_count": 24,
     "metadata": {},
     "output_type": "execute_result"
    }
   ],
   "source": [
    "####No let's investigate wether or not ther is a price discrepancy \\\n",
    "###if cars that have been previously damaged compared to their non_damaged counterparts."
   ]
  }
 ],
 "metadata": {
  "kernelspec": {
   "display_name": "Python 3 (ipykernel)",
   "language": "python",
   "name": "python3"
  },
  "language_info": {
   "codemirror_mode": {
    "name": "ipython",
    "version": 3
   },
   "file_extension": ".py",
   "mimetype": "text/x-python",
   "name": "python",
   "nbconvert_exporter": "python",
   "pygments_lexer": "ipython3",
   "version": "3.9.7"
  }
 },
 "nbformat": 4,
 "nbformat_minor": 5
}
