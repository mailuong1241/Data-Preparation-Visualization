{
  "nbformat": 4,
  "nbformat_minor": 0,
  "metadata": {
    "colab": {
      "name": "Untitled0.ipynb",
      "provenance": [],
      "collapsed_sections": []
    },
    "kernelspec": {
      "name": "python3",
      "display_name": "Python 3"
    },
    "language_info": {
      "name": "python"
    }
  },
  "cells": [
    {
      "cell_type": "code",
      "metadata": {
        "colab": {
          "base_uri": "https://localhost:8080/",
          "height": 559
        },
        "id": "pdV2v142PQJW",
        "outputId": "ea4cee50-6d34-4cf2-c87d-cab8f82150cd"
      },
      "source": [
        "import pandas as pd\n",
        "data = pd.read_csv(\"earthquakes.csv\",sep=\",\")\n",
        "data.head()"
      ],
      "execution_count": 1,
      "outputs": [
        {
          "output_type": "execute_result",
          "data": {
            "text/html": [
              "<div>\n",
              "<style scoped>\n",
              "    .dataframe tbody tr th:only-of-type {\n",
              "        vertical-align: middle;\n",
              "    }\n",
              "\n",
              "    .dataframe tbody tr th {\n",
              "        vertical-align: top;\n",
              "    }\n",
              "\n",
              "    .dataframe thead th {\n",
              "        text-align: right;\n",
              "    }\n",
              "</style>\n",
              "<table border=\"1\" class=\"dataframe\">\n",
              "  <thead>\n",
              "    <tr style=\"text-align: right;\">\n",
              "      <th></th>\n",
              "      <th>alert</th>\n",
              "      <th>cdi</th>\n",
              "      <th>code</th>\n",
              "      <th>detail</th>\n",
              "      <th>dmin</th>\n",
              "      <th>felt</th>\n",
              "      <th>gap</th>\n",
              "      <th>ids</th>\n",
              "      <th>mag</th>\n",
              "      <th>magType</th>\n",
              "      <th>mmi</th>\n",
              "      <th>net</th>\n",
              "      <th>nst</th>\n",
              "      <th>place</th>\n",
              "      <th>rms</th>\n",
              "      <th>sig</th>\n",
              "      <th>sources</th>\n",
              "      <th>status</th>\n",
              "      <th>time</th>\n",
              "      <th>title</th>\n",
              "      <th>tsunami</th>\n",
              "      <th>type</th>\n",
              "      <th>types</th>\n",
              "      <th>tz</th>\n",
              "      <th>updated</th>\n",
              "      <th>url</th>\n",
              "    </tr>\n",
              "  </thead>\n",
              "  <tbody>\n",
              "    <tr>\n",
              "      <th>0</th>\n",
              "      <td>NaN</td>\n",
              "      <td>NaN</td>\n",
              "      <td>37389218</td>\n",
              "      <td>https://earthquake.usgs.gov/fdsnws/event/1/que...</td>\n",
              "      <td>0.008693</td>\n",
              "      <td>NaN</td>\n",
              "      <td>85.0</td>\n",
              "      <td>,ci37389218,</td>\n",
              "      <td>1.35</td>\n",
              "      <td>ml</td>\n",
              "      <td>NaN</td>\n",
              "      <td>ci</td>\n",
              "      <td>26.0</td>\n",
              "      <td>9km NE of Aguanga, CA</td>\n",
              "      <td>0.19</td>\n",
              "      <td>28</td>\n",
              "      <td>,ci,</td>\n",
              "      <td>automatic</td>\n",
              "      <td>1539475168010</td>\n",
              "      <td>M 1.4 - 9km NE of Aguanga, CA</td>\n",
              "      <td>0</td>\n",
              "      <td>earthquake</td>\n",
              "      <td>,geoserve,nearby-cities,origin,phase-data,</td>\n",
              "      <td>-480.0</td>\n",
              "      <td>1539475395144</td>\n",
              "      <td>https://earthquake.usgs.gov/earthquakes/eventp...</td>\n",
              "    </tr>\n",
              "    <tr>\n",
              "      <th>1</th>\n",
              "      <td>NaN</td>\n",
              "      <td>NaN</td>\n",
              "      <td>37389202</td>\n",
              "      <td>https://earthquake.usgs.gov/fdsnws/event/1/que...</td>\n",
              "      <td>0.020030</td>\n",
              "      <td>NaN</td>\n",
              "      <td>79.0</td>\n",
              "      <td>,ci37389202,</td>\n",
              "      <td>1.29</td>\n",
              "      <td>ml</td>\n",
              "      <td>NaN</td>\n",
              "      <td>ci</td>\n",
              "      <td>20.0</td>\n",
              "      <td>9km NE of Aguanga, CA</td>\n",
              "      <td>0.29</td>\n",
              "      <td>26</td>\n",
              "      <td>,ci,</td>\n",
              "      <td>automatic</td>\n",
              "      <td>1539475129610</td>\n",
              "      <td>M 1.3 - 9km NE of Aguanga, CA</td>\n",
              "      <td>0</td>\n",
              "      <td>earthquake</td>\n",
              "      <td>,geoserve,nearby-cities,origin,phase-data,</td>\n",
              "      <td>-480.0</td>\n",
              "      <td>1539475253925</td>\n",
              "      <td>https://earthquake.usgs.gov/earthquakes/eventp...</td>\n",
              "    </tr>\n",
              "    <tr>\n",
              "      <th>2</th>\n",
              "      <td>NaN</td>\n",
              "      <td>4.4</td>\n",
              "      <td>37389194</td>\n",
              "      <td>https://earthquake.usgs.gov/fdsnws/event/1/que...</td>\n",
              "      <td>0.021370</td>\n",
              "      <td>28.0</td>\n",
              "      <td>21.0</td>\n",
              "      <td>,ci37389194,</td>\n",
              "      <td>3.42</td>\n",
              "      <td>ml</td>\n",
              "      <td>NaN</td>\n",
              "      <td>ci</td>\n",
              "      <td>111.0</td>\n",
              "      <td>8km NE of Aguanga, CA</td>\n",
              "      <td>0.22</td>\n",
              "      <td>192</td>\n",
              "      <td>,ci,</td>\n",
              "      <td>automatic</td>\n",
              "      <td>1539475062610</td>\n",
              "      <td>M 3.4 - 8km NE of Aguanga, CA</td>\n",
              "      <td>0</td>\n",
              "      <td>earthquake</td>\n",
              "      <td>,dyfi,focal-mechanism,geoserve,nearby-cities,o...</td>\n",
              "      <td>-480.0</td>\n",
              "      <td>1539536756176</td>\n",
              "      <td>https://earthquake.usgs.gov/earthquakes/eventp...</td>\n",
              "    </tr>\n",
              "    <tr>\n",
              "      <th>3</th>\n",
              "      <td>NaN</td>\n",
              "      <td>NaN</td>\n",
              "      <td>37389186</td>\n",
              "      <td>https://earthquake.usgs.gov/fdsnws/event/1/que...</td>\n",
              "      <td>0.026180</td>\n",
              "      <td>NaN</td>\n",
              "      <td>39.0</td>\n",
              "      <td>,ci37389186,</td>\n",
              "      <td>0.44</td>\n",
              "      <td>ml</td>\n",
              "      <td>NaN</td>\n",
              "      <td>ci</td>\n",
              "      <td>26.0</td>\n",
              "      <td>9km NE of Aguanga, CA</td>\n",
              "      <td>0.17</td>\n",
              "      <td>3</td>\n",
              "      <td>,ci,</td>\n",
              "      <td>automatic</td>\n",
              "      <td>1539474978070</td>\n",
              "      <td>M 0.4 - 9km NE of Aguanga, CA</td>\n",
              "      <td>0</td>\n",
              "      <td>earthquake</td>\n",
              "      <td>,geoserve,nearby-cities,origin,phase-data,</td>\n",
              "      <td>-480.0</td>\n",
              "      <td>1539475196167</td>\n",
              "      <td>https://earthquake.usgs.gov/earthquakes/eventp...</td>\n",
              "    </tr>\n",
              "    <tr>\n",
              "      <th>4</th>\n",
              "      <td>NaN</td>\n",
              "      <td>NaN</td>\n",
              "      <td>73096941</td>\n",
              "      <td>https://earthquake.usgs.gov/fdsnws/event/1/que...</td>\n",
              "      <td>0.077990</td>\n",
              "      <td>NaN</td>\n",
              "      <td>192.0</td>\n",
              "      <td>,nc73096941,</td>\n",
              "      <td>2.16</td>\n",
              "      <td>md</td>\n",
              "      <td>NaN</td>\n",
              "      <td>nc</td>\n",
              "      <td>18.0</td>\n",
              "      <td>10km NW of Avenal, CA</td>\n",
              "      <td>0.05</td>\n",
              "      <td>72</td>\n",
              "      <td>,nc,</td>\n",
              "      <td>automatic</td>\n",
              "      <td>1539474716050</td>\n",
              "      <td>M 2.2 - 10km NW of Avenal, CA</td>\n",
              "      <td>0</td>\n",
              "      <td>earthquake</td>\n",
              "      <td>,geoserve,nearby-cities,origin,phase-data,scit...</td>\n",
              "      <td>-480.0</td>\n",
              "      <td>1539477547926</td>\n",
              "      <td>https://earthquake.usgs.gov/earthquakes/eventp...</td>\n",
              "    </tr>\n",
              "  </tbody>\n",
              "</table>\n",
              "</div>"
            ],
            "text/plain": [
              "  alert  cdi  ...        updated                                                url\n",
              "0   NaN  NaN  ...  1539475395144  https://earthquake.usgs.gov/earthquakes/eventp...\n",
              "1   NaN  NaN  ...  1539475253925  https://earthquake.usgs.gov/earthquakes/eventp...\n",
              "2   NaN  4.4  ...  1539536756176  https://earthquake.usgs.gov/earthquakes/eventp...\n",
              "3   NaN  NaN  ...  1539475196167  https://earthquake.usgs.gov/earthquakes/eventp...\n",
              "4   NaN  NaN  ...  1539477547926  https://earthquake.usgs.gov/earthquakes/eventp...\n",
              "\n",
              "[5 rows x 26 columns]"
            ]
          },
          "metadata": {},
          "execution_count": 1
        }
      ]
    },
    {
      "cell_type": "code",
      "metadata": {
        "id": "q7QB2lKgQHsY",
        "colab": {
          "base_uri": "https://localhost:8080/"
        },
        "outputId": "e625c837-7faf-4481-f372-ec7220d7dd99"
      },
      "source": [
        "#ex1\n",
        "sum_Earthquake = sum ((data.type == 'explosion') & (data.magType == 'ml'))\n",
        "sum_Earthquake"
      ],
      "execution_count": 2,
      "outputs": [
        {
          "output_type": "execute_result",
          "data": {
            "text/plain": [
              "79"
            ]
          },
          "metadata": {},
          "execution_count": 2
        }
      ]
    },
    {
      "cell_type": "code",
      "metadata": {
        "colab": {
          "base_uri": "https://localhost:8080/"
        },
        "id": "nGw9d4C2MOfE",
        "outputId": "12a73633-0317-4549-c66d-0eda27fee689"
      },
      "source": [
        "data.time = pd.to_datetime(data.time,unit='ms')\n",
        "data['time'].unique"
      ],
      "execution_count": 4,
      "outputs": [
        {
          "output_type": "execute_result",
          "data": {
            "text/plain": [
              "<bound method Series.unique of 0      2018-10-13 23:59:28.010\n",
              "1      2018-10-13 23:58:49.610\n",
              "2      2018-10-13 23:57:42.610\n",
              "3      2018-10-13 23:56:18.070\n",
              "4      2018-10-13 23:51:56.050\n",
              "                 ...          \n",
              "9327   2018-09-18 00:23:48.060\n",
              "9328   2018-09-18 00:22:15.130\n",
              "9329   2018-09-18 00:18:28.180\n",
              "9330   2018-09-18 00:12:25.350\n",
              "9331   2018-09-18 00:01:04.470\n",
              "Name: time, Length: 9332, dtype: datetime64[ns]>"
            ]
          },
          "metadata": {},
          "execution_count": 4
        }
      ]
    },
    {
      "cell_type": "code",
      "metadata": {
        "id": "zPaOZAvrOUAC",
        "colab": {
          "base_uri": "https://localhost:8080/"
        },
        "outputId": "f436c84d-d354-465f-a4cd-e4e25547b205"
      },
      "source": [
        "#ex2\n",
        "mean_Of_mags = data.mag[(data.place.str.contains('Alaska'))&~(data.place.str.contains('\\d\\d\\d',regex=True))].mean()\n",
        "mean_Of_mags"
      ],
      "execution_count": 8,
      "outputs": [
        {
          "output_type": "execute_result",
          "data": {
            "text/plain": [
              "1.3744199088678577"
            ]
          },
          "metadata": {},
          "execution_count": 8
        }
      ]
    },
    {
      "cell_type": "code",
      "metadata": {
        "colab": {
          "base_uri": "https://localhost:8080/"
        },
        "id": "3TUqYYowpaaO",
        "outputId": "60880584-3675-4b70-ca19-8b916a7f7b34"
      },
      "source": [
        "#ex3\n",
        "data.time = pd.to_datetime(data.time,unit='ms')\n",
        "data['time'].unique"
      ],
      "execution_count": 9,
      "outputs": [
        {
          "output_type": "execute_result",
          "data": {
            "text/plain": [
              "<bound method Series.unique of 0      2018-10-13 23:59:28.010\n",
              "1      2018-10-13 23:58:49.610\n",
              "2      2018-10-13 23:57:42.610\n",
              "3      2018-10-13 23:56:18.070\n",
              "4      2018-10-13 23:51:56.050\n",
              "                 ...          \n",
              "9327   2018-09-18 00:23:48.060\n",
              "9328   2018-09-18 00:22:15.130\n",
              "9329   2018-09-18 00:18:28.180\n",
              "9330   2018-09-18 00:12:25.350\n",
              "9331   2018-09-18 00:01:04.470\n",
              "Name: time, Length: 9332, dtype: datetime64[ns]>"
            ]
          },
          "metadata": {},
          "execution_count": 9
        }
      ]
    },
    {
      "cell_type": "code",
      "metadata": {
        "colab": {
          "base_uri": "https://localhost:8080/"
        },
        "id": "Q9LbTMe2_CUR",
        "outputId": "04ffd8b3-20aa-4d7a-f947-5f890f10d754"
      },
      "source": [
        "q1 = data.mag[(pd.DatetimeIndex(data['time']).month>=1)&(pd.DatetimeIndex(data['time']).month<=3)].mean()\n",
        "q1"
      ],
      "execution_count": 10,
      "outputs": [
        {
          "output_type": "execute_result",
          "data": {
            "text/plain": [
              "nan"
            ]
          },
          "metadata": {},
          "execution_count": 10
        }
      ]
    },
    {
      "cell_type": "code",
      "metadata": {
        "colab": {
          "base_uri": "https://localhost:8080/"
        },
        "id": "5I8e-2C__ECx",
        "outputId": "6cba61ac-3873-4e9e-f9e4-410c65ba02fc"
      },
      "source": [
        "q2 = data.mag[(pd.DatetimeIndex(data['time']).month>=4)&(pd.DatetimeIndex(data['time']).month<=6)].mean()\n",
        "q2"
      ],
      "execution_count": 11,
      "outputs": [
        {
          "output_type": "execute_result",
          "data": {
            "text/plain": [
              "nan"
            ]
          },
          "metadata": {},
          "execution_count": 11
        }
      ]
    },
    {
      "cell_type": "code",
      "metadata": {
        "colab": {
          "base_uri": "https://localhost:8080/"
        },
        "id": "8M1va8wz_Fa0",
        "outputId": "c8e4d33f-e532-4c2f-ac93-26c64bfa88f2"
      },
      "source": [
        "q3 = data.mag[(pd.DatetimeIndex(data['time']).month>=7)&(pd.DatetimeIndex(data['time']).month<=9)].mean()\n",
        "q3"
      ],
      "execution_count": 12,
      "outputs": [
        {
          "output_type": "execute_result",
          "data": {
            "text/plain": [
              "1.466735124760082"
            ]
          },
          "metadata": {},
          "execution_count": 12
        }
      ]
    },
    {
      "cell_type": "code",
      "metadata": {
        "colab": {
          "base_uri": "https://localhost:8080/"
        },
        "id": "VoJx7ke3_G-w",
        "outputId": "470da91d-ad63-4473-ba45-480f8806ac89"
      },
      "source": [
        "q4 = data.mag[(pd.DatetimeIndex(data['time']).month>=10)&(pd.DatetimeIndex(data['time']).month<=12)].mean()\n",
        "q4"
      ],
      "execution_count": 13,
      "outputs": [
        {
          "output_type": "execute_result",
          "data": {
            "text/plain": [
              "1.5360446493569568"
            ]
          },
          "metadata": {},
          "execution_count": 13
        }
      ]
    },
    {
      "cell_type": "code",
      "metadata": {
        "id": "h7WNHE_r_IUn"
      },
      "source": [
        ""
      ],
      "execution_count": null,
      "outputs": []
    }
  ]
}